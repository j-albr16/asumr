{
 "cells": [
  {
   "cell_type": "markdown",
   "id": "aed18048",
   "metadata": {},
   "source": [
    "# Markov Lokalisation\n",
    "\n",
    "## Hintergrund\n",
    "\n",
    "\n",
    "## Aufgabe\n",
    "\n",
    "Ziel der Aufgabe ist die erfolgreiche Implementation der Markov Lokalisation.\n",
    "\n",
    "\n",
    "Zur Aufgabe:\n",
    "\n",
    "Gegeben ist ein 1D Array der länge `len`, auf welchem sich ein `Agent` nach rechts, links oder gar nicht bewegen kann. Es kann nach jedem Schritt eine Messung durchgeführt werden.\n",
    "\n",
    "\\begin{align*}\n",
    "       z \\in &\\ \\{wall, way\\} \\\\\n",
    "       x \\in &\\  \\mathbb{N}^{<len} \\\\\n",
    "       u \\in &\\ [-1, 0, 1]\n",
    "\\end{align*}\n",
    "\n",
    "Folgendes sind die Wahrscheinlichkeiten für die Messwerte:\n",
    "\n",
    "\\begin{align*}\n",
    "   &&\\     p(z='wall' | x=0) &\\ = 0.8 \\\\\n",
    "    &&\\    p(z='way' | x=0) &\\  = 0.2 \\\\\n",
    "    &&\\    p(z='wall' | x=len-1) &\\  = 0.8 \\\\\n",
    "   &&\\     p(z='way' | x=len-1) &\\  = 0.2 \\\\\n",
    "   &&\\     p(z='wall' | 0 < x < len-1) &\\  = 0.05 \\\\\n",
    "   &&\\     p(z='way' | 0 < x < len-1) &\\  = 0.95\n",
    "\\end{align*}\n",
    "\n",
    "Folgendes sind die erlaubten Bewegungsmuster des `Agent`s:\n",
    "\n",
    "- wenn er sich nicht am rand des Arrays befindet, kann er sich in jede Richtung `u` bewegen.\n",
    "- wenn er sich am linken Rand befindet und nach links geht, verändert er die Position nicht\n",
    "- wenn er sich am rechten Rand befindet und nach rechts geht, verändert er die Position nicht\n",
    "\n",
    "Dieser Mechanismus ist duch folgende Wahrscheinlichkeitsverteilungen gegeben:\n",
    "\n",
    "\\begin{align*}\n",
    " &&\\     p( x_t = x_{t-1} |  u_t = 0 , x_{t-1})  &\\ = 1 \\\\\n",
    "\n",
    "  &&\\    p( x_t = x_{t-1} |  u_t = -1 , x_{t-1} = 0) &\\  = 1 \\\\\n",
    "   &&\\   p( x_t = x_{t-1} |  u_t = 1 , x_{t-1} = len-1) &\\  = 1 \\\\\n",
    "\n",
    "   &&\\   p( x_t = x_{t-1}+1 |  u_t = 1 , x_{t-1} < len-1) &\\  = 1 \\\\\n",
    "  &&\\    p( x_t = x_{t-1}-1 |  u_t = -1 , x_{t-1} > 0) &\\  = 1 \\\\\n",
    "\n",
    "\\end{align*}\n",
    "\n",
    "Für alle verbleibenden Konfigurationen von $$x_t, u_t, x_{t-1}$$ ist die Wahrscheinlichkeit null.\n",
    "\n",
    "Implementieren Sie die Klasse `Agent`, die die Methoden `p_x, p_z, predict` und `update` besitzt. Die `update` Methode soll die geglaubte State Wahrscheinlichkeitsverteilen $b(x_t)` (`self.bel$) updaten. `self.bel` wird beim iterativen Aufruf von `Agent` verwendet um die Ergebnisse darzustellen."
   ]
  },
  {
   "cell_type": "code",
   "execution_count": 1,
   "id": "e2809528",
   "metadata": {},
   "outputs": [],
   "source": [
    "import numpy as np\n",
    "import random\n",
    "import matplotlib.pyplot as plt\n",
    "from scipy.interpolate import interp1d"
   ]
  },
  {
   "cell_type": "markdown",
   "id": "75346986",
   "metadata": {},
   "source": [
    "Folgendes ist das Environemnt, welches den Schritt entgegen nimmt und Sensordaten zurück gibt. Sie dürfen nicht auf die `_pos` Eigenschaft zugreifen."
   ]
  },
  {
   "cell_type": "code",
   "execution_count": 2,
   "id": "084e6264",
   "metadata": {
    "tags": [
     "hide-input"
    ]
   },
   "outputs": [],
   "source": [
    "class Environment:\n",
    "\n",
    "    def __init__(self, size):\n",
    "        self.arr = np.zeros(size)\n",
    "        self.size = size\n",
    "        self._pos = random.randint(0, size - 1)\n",
    "\n",
    "    def step(self, u):\n",
    "        if self._pos == 0 and u == -1 or self._pos == self.size - 1 and u == 1:\n",
    "            return\n",
    "\n",
    "        self._pos += u\n",
    "\n",
    "    def sense(self):\n",
    "        is_wall = self._pos == 0 or self._pos == self.size - 1\n",
    "\n",
    "        if is_wall:\n",
    "            return 'wall'\n",
    "        else:\n",
    "            return 'way'"
   ]
  },
  {
   "cell_type": "code",
   "execution_count": 3,
   "id": "4ab317c3",
   "metadata": {},
   "outputs": [],
   "source": [
    "class Agent:\n",
    "\n",
    "    def __init__(self, env):\n",
    "        self.env = env\n",
    "        self.bel = [1 / env.size for _ in range(env.size)]\n",
    "        self.u = [1, 0, -1]\n",
    "        self.x = list(range(env.size))\n",
    "        self.z = ['wall', 'way']\n",
    "        self.last = env.size - 1\n",
    "\n",
    "    def p_z(self, z, x):\n",
    "        \"\"\"\n",
    "        properbility distribution of sensor data z for given position x\n",
    "\n",
    "        :param z: str (Sensor data 'wall' or 'way')\n",
    "        :param x: int (Position)\n",
    "        :return: int (propability [0,1])\n",
    "        \"\"\"\n",
    "        # your code here\n",
    "\n",
    "    def p_x(self, x_next, x, u) -> int:\n",
    "        \"\"\"\n",
    "        properbility distribution of x_t given control-action u_t and last position x_t-1\n",
    "\n",
    "        :param x_next: int (next position)\n",
    "        :param x: int (last position)\n",
    "        :param u: int (control-action 0,1 or -1)\n",
    "        :return: int (propability [0,1])\n",
    "        \"\"\"\n",
    "        # your code here\n",
    "        pass\n",
    "\n",
    "    def predict(self, x_next, u) -> int:\n",
    "        \"\"\"\n",
    "        Predicts the next belief state given the current belief state and the action\n",
    "\n",
    "        :param x_next: the next state\n",
    "        :param u: the action\n",
    "        \"\"\"\n",
    "        # your code here\n",
    "        pass\n",
    "\n",
    "    def update(self, z, predicted_bel):\n",
    "        \"\"\"\n",
    "        Updates the belief state given the current belief state and the observation\n",
    "\n",
    "        :param z: the observation\n",
    "        :param predicted_bel: the predicted belief state\n",
    "        \"\"\"\n",
    "        # your code here\n",
    "        pass\n",
    "\n",
    "\n",
    "    def __iter__(self):\n",
    "        self.steps = [0] + [random.choice(self.u)\n",
    "                            for _ in range(self.num_steps - 1)]\n",
    "\n",
    "        self.i = 0\n",
    "        return self\n",
    "\n",
    "    def __next__(self):\n",
    "        if self.i < len(self.steps):\n",
    "\n",
    "            u = self.steps[self.i]\n",
    "            self.env.step(u)\n",
    "            predicted_bel = [self.predict(x, u) for x in self.x]\n",
    "            z = self.env.sense()\n",
    "            self.update(z, predicted_bel)\n",
    "\n",
    "            self.i += 1\n",
    "\n",
    "            return self.bel, self.env._pos\n",
    "        raise StopIteration\n",
    "\n",
    "    def __call__(self, num_steps=9):\n",
    "        self.num_steps = num_steps\n",
    "        return self"
   ]
  },
  {
   "cell_type": "code",
   "execution_count": 4,
   "id": "798caa98",
   "metadata": {
    "tags": [
     "hide-input"
    ]
   },
   "outputs": [],
   "source": [
    "class AgentVizualizer:\n",
    "\n",
    "    def __init__(self, agent, num_steps=9):\n",
    "        self.agent = agent\n",
    "        self.num_steps = num_steps\n",
    "        self.size = self.agent.env.size - 1\n",
    "\n",
    "    def interpol_bel(self, bel):\n",
    "        x = np.linspace(0, self.size, len(bel))\n",
    "        y = bel\n",
    "        f = interp1d(x, y, kind='nearest', fill_value='extrapolate')\n",
    "        x_new = np.linspace(0, self.size, 100)\n",
    "        y_new = f(x_new)\n",
    "        return x_new, y_new\n",
    "\n",
    "    def __call__(self, ):\n",
    "        fig, axs = plt.subplots(self.num_steps // 3, 3, figsize=(10, 10))\n",
    "\n",
    "        axs_flat = axs.flatten()\n",
    "        for i, (bel, pos) in enumerate(self.agent(self.num_steps)):\n",
    "            ax = axs_flat[i]\n",
    "\n",
    "            x, y = self.interpol_bel(bel)\n",
    "            ax.scatter(pos, 0, color='red')\n",
    "            ax.plot(x, y, color='blue')\n",
    "            ax.set_ylim(0, 1)\n",
    "            ax.set_xlim(0, len(bel) - 1)\n",
    "            ax.set_title(f'step {i}')\n",
    "            ax.grid()\n",
    "\n",
    "        plt.show()"
   ]
  },
  {
   "cell_type": "code",
   "execution_count": 5,
   "id": "97f557d4",
   "metadata": {
    "tags": [
     "hide-input"
    ]
   },
   "outputs": [
    {
     "data": {
      "image/png": "[encoded data removed]",
      "text/plain": [
       "<Figure size 1000x1000 with 9 Axes>"
      ]
     },
     "metadata": {},
     "output_type": "display_data"
    }
   ],
   "source": [
    "def main():\n",
    "    env = Environment(6)\n",
    "    markov = Agent(env)\n",
    "    AgentVizualizer(markov, num_steps=9)()\n",
    "\n",
    "\n",
    "if __name__ == '__main__':\n",
    "    main()"
   ]
  },
  {
   "cell_type": "markdown",
   "id": "257bcaa1",
   "metadata": {},
   "source": [
    "Folgendes ist ein Beispielergebnis:\n",
    "\n",
    "![markov](markov-example.png)"
   ]
  }
 ],
 "metadata": {
  "jupytext": {
   "formats": "md:myst",
   "text_representation": {
    "extension": ".md",
    "format_name": "myst"
   }
  },
  "kernelspec": {
   "display_name": "Python 3",
   "language": "python",
   "name": "python3"
  },
  "language_info": {
   "codemirror_mode": {
    "name": "ipython",
    "version": 3
   },
   "file_extension": ".py",
   "mimetype": "text/x-python",
   "name": "python",
   "nbconvert_exporter": "python",
   "pygments_lexer": "ipython3",
   "version": "3.10.12"
  },
  "source_map": [
   11,
   67,
   72,
   76,
   103,
   184,
   220,
   231
  ]
 },
 "nbformat": 4,
 "nbformat_minor": 5
}