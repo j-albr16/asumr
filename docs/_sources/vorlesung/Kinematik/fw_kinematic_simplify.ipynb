{
 "cells": [
  {
   "cell_type": "markdown",
   "id": "96070db1",
   "metadata": {},
   "source": [
    "# Forward Kinematik\n",
    "\n",
    "##  Simplification of Matrix Multiplication using sympy\n",
    "\n",
    "Expressing the kinematics as homogeneous transformation matrices."
   ]
  },
  {
   "cell_type": "code",
   "execution_count": 1,
   "id": "4ab10563",
   "metadata": {},
   "outputs": [
    {
     "name": "stdout",
     "output_type": "stream",
     "text": [
      "Requirement already satisfied: sympy in /home/scrutycs/uni/5-Semester/ASUMR/asumr/venv/lib/python3.10/site-packages (1.12)\r\n",
      "Requirement already satisfied: mpmath>=0.19 in /home/scrutycs/uni/5-Semester/ASUMR/asumr/venv/lib/python3.10/site-packages (from sympy) (1.3.0)\r\n"
     ]
    }
   ],
   "source": [
    "# Install the pip package in the current Jupyter kernel if neccessary \n",
    "import sys\n",
    "!{sys.executable} -m pip install sympy"
   ]
  },
  {
   "cell_type": "code",
   "execution_count": 2,
   "id": "fd0080a8",
   "metadata": {},
   "outputs": [],
   "source": [
    "from sympy import *\n",
    "theta_1 = Symbol('theta_1')\n",
    "theta_2 = Symbol('theta_2')\n",
    "l_1 = Symbol('l_1')\n",
    "l_2 = Symbol('l_2')\n",
    "T_1 = Matrix([[cos(theta_1), -sin(theta_1), 0], [sin(theta_1), cos(theta_1),0], [0, 0, 1]])\n",
    "T_2 = Matrix([[1, 0, l_1], [0, 1, 0], [0, 0, 1]])\n",
    "T_3 = Matrix([[cos(theta_2), -sin(theta_2), 0], [sin(theta_2), cos(theta_2),0], [0, 0, 1]])\n",
    "T_4 = Matrix([[1, 0, l_2], [0, 1, 0], [0, 0, 1]])\n",
    "fw_kin_2segm_expr = T_1 * T_2 * T_3 * T_4"
   ]
  },
  {
   "cell_type": "markdown",
   "id": "7b2d8e5e",
   "metadata": {},
   "source": [
    "## Simplify the expression using sympy"
   ]
  },
  {
   "cell_type": "code",
   "execution_count": 3,
   "id": "50bcdbc9",
   "metadata": {},
   "outputs": [
    {
     "name": "stdout",
     "output_type": "stream",
     "text": [
      "⎡cos(θ₁ + θ₂)  -sin(θ₁ + θ₂)  l₁⋅cos(θ₁) + l₂⋅cos(θ₁ + θ₂)⎤\n",
      "⎢                                                         ⎥\n",
      "⎢sin(θ₁ + θ₂)  cos(θ₁ + θ₂)   l₁⋅sin(θ₁) + l₂⋅sin(θ₁ + θ₂)⎥\n",
      "⎢                                                         ⎥\n",
      "⎣     0              0                     1              ⎦\n"
     ]
    }
   ],
   "source": [
    "simplify_expression = simplify(str(fw_kin_2segm_expr))\n",
    "pprint(simplify_expression)"
   ]
  },
  {
   "cell_type": "markdown",
   "id": "084ec0d6",
   "metadata": {},
   "source": [
    "## Extending to a 3-segmented manipulator\n",
    "\n",
    "Adding additional transformation matrices T_5 and T_6"
   ]
  },
  {
   "cell_type": "code",
   "execution_count": 4,
   "id": "de0b05d3",
   "metadata": {},
   "outputs": [
    {
     "name": "stdout",
     "output_type": "stream",
     "text": [
      "⎡cos(θ₁ + θ₂ + θ₃)  -sin(θ₁ + θ₂ + θ₃)  l₁⋅cos(θ₁) + l₂⋅cos(θ₁ + θ₂) + l₃⋅cos(θ₁ + θ₂ + θ₃)⎤\n",
      "⎢                                                                                          ⎥\n",
      "⎢sin(θ₁ + θ₂ + θ₃)  cos(θ₁ + θ₂ + θ₃)   l₁⋅sin(θ₁) + l₂⋅sin(θ₁ + θ₂) + l₃⋅sin(θ₁ + θ₂ + θ₃)⎥\n",
      "⎢                                                                                          ⎥\n",
      "⎣        0                  0                                    1                         ⎦\n"
     ]
    }
   ],
   "source": [
    "theta_3 = Symbol('theta_3')\n",
    "l_3 = Symbol('l_3')\n",
    "T_5 = Matrix([[cos(theta_3), -sin(theta_3), 0], [sin(theta_3), cos(theta_3),0], [0, 0, 1]])\n",
    "T_6 = Matrix([[1, 0, l_3], [0, 1, 0], [0, 0, 1]])\n",
    "fw_kin_3segm_expr = T_1 * T_2 * T_3 * T_4 * T_5 * T_6\n",
    "simplify_expression_3segm = simplify(str(fw_kin_3segm_expr))\n",
    "pprint(simplify_expression_3segm)"
   ]
  },
  {
   "cell_type": "markdown",
   "id": "9a556aa1",
   "metadata": {},
   "source": [
    "## Switch printing to Latex formula"
   ]
  },
  {
   "cell_type": "code",
   "execution_count": 5,
   "id": "b2661474",
   "metadata": {},
   "outputs": [
    {
     "data": {
      "text/latex": [
       "$\\displaystyle \\left[\\begin{matrix}\\cos{\\left(\\theta_{1} + \\theta_{2} + \\theta_{3} \\right)} & - \\sin{\\left(\\theta_{1} + \\theta_{2} + \\theta_{3} \\right)} & l_{1} \\cos{\\left(\\theta_{1} \\right)} + l_{2} \\cos{\\left(\\theta_{1} + \\theta_{2} \\right)} + l_{3} \\cos{\\left(\\theta_{1} + \\theta_{2} + \\theta_{3} \\right)}\\\\\\sin{\\left(\\theta_{1} + \\theta_{2} + \\theta_{3} \\right)} & \\cos{\\left(\\theta_{1} + \\theta_{2} + \\theta_{3} \\right)} & l_{1} \\sin{\\left(\\theta_{1} \\right)} + l_{2} \\sin{\\left(\\theta_{1} + \\theta_{2} \\right)} + l_{3} \\sin{\\left(\\theta_{1} + \\theta_{2} + \\theta_{3} \\right)}\\\\0 & 0 & 1\\end{matrix}\\right]$"
      ],
      "text/plain": [
       "Matrix([\n",
       "[cos(theta_1 + theta_2 + theta_3), -sin(theta_1 + theta_2 + theta_3), l_1*cos(theta_1) + l_2*cos(theta_1 + theta_2) + l_3*cos(theta_1 + theta_2 + theta_3)],\n",
       "[sin(theta_1 + theta_2 + theta_3),  cos(theta_1 + theta_2 + theta_3), l_1*sin(theta_1) + l_2*sin(theta_1 + theta_2) + l_3*sin(theta_1 + theta_2 + theta_3)],\n",
       "[                               0,                                 0,                                                                                    1]])"
      ]
     },
     "execution_count": 5,
     "metadata": {},
     "output_type": "execute_result"
    }
   ],
   "source": [
    "from sympy.physics.vector import init_vprinting\n",
    "init_vprinting(use_latex='mathjax', pretty_print=False)\n",
    "simplify_expression_3segm"
   ]
  },
  {
   "cell_type": "code",
   "execution_count": null,
   "id": "479bb7a1",
   "metadata": {},
   "outputs": [],
   "source": []
  }
 ],
 "metadata": {
  "jupytext": {
   "text_representation": {
    "extension": ".md",
    "format_name": "myst",
    "format_version": 0.13,
    "jupytext_version": "1.15.2"
   }
  },
  "kernelspec": {
   "display_name": "py_38",
   "language": "python",
   "name": "python3"
  },
  "language_info": {
   "codemirror_mode": {
    "name": "ipython",
    "version": 3
   },
   "file_extension": ".py",
   "mimetype": "text/x-python",
   "name": "python",
   "nbconvert_exporter": "python",
   "pygments_lexer": "ipython3",
   "version": "3.10.12"
  },
  "source_map": [
   12,
   20,
   26,
   37,
   41,
   44,
   50,
   58,
   62,
   68
  ]
 },
 "nbformat": 4,
 "nbformat_minor": 5
}