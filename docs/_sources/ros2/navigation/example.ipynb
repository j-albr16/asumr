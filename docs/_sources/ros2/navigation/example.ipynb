{
 "cells": [
  {
   "cell_type": "markdown",
   "id": "0b500d8f",
   "metadata": {},
   "source": [
    "# Beispiel\n",
    "\n",
    "\n",
    "## AMCL and Navigation\n",
    "\n",
    "in diesem Beispiel wird eine Turtlebot Simulation gestartet. Dabei ist die Map bekannt. Mittels AMCL wird der Turtlebot lokalisiert.\n",
    "\n",
    "### Starten der Simulation\n",
    "\n",
    "Beovr die Simulation gestartet werden kann, muss die `setup.bash` gesourced werden und einige Umgebungsvariablen gesetzt werden. \n",
    "\n",
    "```bash\n",
    "source /opt/ros/<ros2-distro>/setup.bash\n",
    "export TURTLEBOT3_MODEL=waffle\n",
    "export GAZEBO_MODEL_PATH=$GAZEBO_MODEL_PATH:/opt/ros/<ros2-distro>/share/turtlebot3_gazebo/models\n",
    "```\n",
    "\n",
    "nun kann die Simulation mit folgendem Befehl gestartet werden:\n",
    "\n",
    "```bash\n",
    "ros2 launch nav2_bringup tb3_simulation_launch.py headless:=False\n",
    "```\n",
    "\n",
    "Es sollten die Programme rviz und gazebo starten. Folgendes sollte in rviz zu sehen sein:\n",
    "\n",
    "![rviz](./base.png)\n",
    "\n",
    "\n",
    "Nun kann die lokalisation gestartet werden. Klicke hierführ auf `2D Pose Estimate`, klick auf die Map in rviz, wo du den Turtlebot vermutest und ziehe den Pfeil in die vermutete Richtung. Es sollte folgendes zu sehen sein:\n",
    "\n",
    "![pos](./pos.png)\n",
    "\n",
    "### Navigation\n",
    "\n",
    "Um den Roboter zu bewegen. Klicke auf Nav Goal und klicke auf die gewünschte Position auf der Map. Der Pfeil verwendet werden, um die Zielorientierung des Turtlebots festzulegen.\n",
    "\n",
    "\n",
    "Man sollte nun erkennen, dass sich der Roboter bewegt:\n",
    "\n",
    "![nav](./nav.png)\n",
    "\n",
    "\n",
    "## SLAM\n",
    "\n",
    "um ein SLAM Simulation zu starten muss zunächst die Ros Umgebung gesetzt werden:\n",
    "\n",
    "```\n",
    "source /opt/ros/<ros2-distro>/setup.bash\n",
    "export TURTLEBOT3_MODEL=waffle\n",
    "```\n",
    "\n",
    "\n",
    "Nun kann die Simulation mit folgendem Befehl gestartet werden:\n",
    "\n",
    "```\n",
    "ros2 launch nav2_bringup tb3_simulation_launch.py slam:=True\n",
    "```"
   ]
  }
 ],
 "metadata": {
  "jupytext": {
   "formats": "md:myst",
   "text_representation": {
    "extension": ".md",
    "format_name": "myst"
   }
  },
  "kernelspec": {
   "display_name": "Python 3",
   "language": "python",
   "name": "python3"
  },
  "source_map": [
   11
  ]
 },
 "nbformat": 4,
 "nbformat_minor": 5
}