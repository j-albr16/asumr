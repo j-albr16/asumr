{
 "cells": [
  {
   "cell_type": "markdown",
   "id": "e7bdf868",
   "metadata": {},
   "source": [
    "# Launch Files\n",
    "\n",
    "Launch files können verschieden Nodes starten und stoppen, sowie verschiedene Events bearbeiten oder auslösen.\n",
    "\n",
    "\n",
    "## Setup\n",
    "\n",
    "```bash\n",
    "source /opt/ros/iron/setup.bash\n",
    "mkdir laumch\n",
    "```\n",
    "\n",
    "## Erstelle ein Launch File\n",
    "\n",
    "Erstelle folgendes launch file mit dem Namen `launch/turtlesim_mimic.py`:\n",
    "\n",
    "```bash\n",
    "from launch import LaunchDescription\n",
    "from launch_ros.actions import Node\n",
    "\n",
    "def generate_launch_description():\n",
    "    return LaunchDescription([\n",
    "        Node(\n",
    "            package='turtlesim',\n",
    "            namespace='turtlesim1',\n",
    "            executable='turtlesim_node',\n",
    "            name='sim'\n",
    "        ),\n",
    "        Node(\n",
    "            package='turtlesim',\n",
    "            namespace='turtlesim2',\n",
    "            executable='turtlesim_node',\n",
    "            name='sim'\n",
    "        ),\n",
    "        Node(\n",
    "            package='turtlesim',\n",
    "            executable='mimic',\n",
    "            name='mimic',\n",
    "            remappings=[\n",
    "                ('/input/pose', '/turtlesim1/turtle1/pose'),\n",
    "                ('/output/cmd_vel', '/turtlesim2/turtle1/cmd_vel'),\n",
    "            ]\n",
    "        )\n",
    "    ])\n",
    "```\n",
    "\n",
    "Dieses launch file erstellt 2 turtlesim Nodes wobei auch 2 Turtlesim Fenster gestartet werden. Anschließend wird ebenfalls eine Turtlesim mimic Node erstellt, welche den Pose Topic von turtlesim1 subscribed und den Geschwindigkeitswert and über den /cmd_vel Topic and Turtlesim2 published. Mehr dazu bei dem [Kapitel zu ROS2 Topics](../topic).\n",
    "\n",
    "\n",
    "## Starte ein Launch File\n",
    "\n",
    "\n",
    "Mit folgendem Befehl startest du ein launch File:\n",
    "\n",
    "```bash\n",
    "ros2 launch <launch_file_path>\n",
    "```\n",
    "\n",
    "```bash\n",
    "ros2 launch launch/turtlesim_mimic.py\n",
    "```\n",
    "\n",
    "Um die Funktionalität zu testen, kannst du mit folgendem Befehl turtle1/sim bewegen:\n",
    "\n",
    "```bash\n",
    "ros2 topic pub -r 1 /turtlesim1/turtle1/cmd_vel geometry_msgs/msg/Twist \"{linear: {x: 2.0, y: 0.0, z: 0.0}, angular: {x: 0.0, y: 0.0, z: -1.8}}\"\n",
    "```\n",
    "\n",
    "beide turtle sims sollten sich nun im Kreis bewegen."
   ]
  }
 ],
 "metadata": {
  "jupytext": {
   "formats": "md:myst",
   "text_representation": {
    "extension": ".md",
    "format_name": "myst"
   }
  },
  "kernelspec": {
   "display_name": "Python 3",
   "language": "python",
   "name": "python3"
  },
  "source_map": [
   11
  ]
 },
 "nbformat": 4,
 "nbformat_minor": 5
}