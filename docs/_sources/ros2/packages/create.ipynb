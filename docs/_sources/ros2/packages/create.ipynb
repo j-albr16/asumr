{
 "cells": [
  {
   "cell_type": "markdown",
   "id": "18a40168",
   "metadata": {},
   "source": [
    "# Erstelle ein Package\n",
    "\n",
    "## Generell\n",
    "\n",
    "Zuerst musst du deine ros2 Umgebung sourcem\n",
    "\n",
    "Unter Linux nach der gegebenen Anleitung:\n",
    "\n",
    "```bash\n",
    "source /opt/ros/iron/setup.bash\n",
    "```\n",
    "\n",
    "Jetzt kannst du das package erstellen. Beachte, dass das Package in dem aktuellen Ordner erstellt wird.\n",
    "\n",
    "```bash\n",
    "cd ~/ros2_ws/src\n",
    "ros2 pkg create --build-type ament_python <package_name> \n",
    "```\n",
    "\n",
    "Nachdem dein Package erstellt ist, kannst du es mit folgendem Befehl bauen:\n",
    "\n",
    "```bash\n",
    "cd ~/ros2_ws\n",
    "colcon build\n",
    "```\n",
    "\n",
    "## Hello World Package\n",
    "\n",
    "\n",
    "Wir erstellen nun ein weiteres package welches ein Node erstellt um ein `Hello World` Programm abzulaufen.\n",
    "\n",
    "Hierzu geben wir bei dem `ros2 pkg create` command ebenfalls einen Wert für die `--node-name` option an:\n",
    "\n",
    "```bash\n",
    "source /opt/ros/iron/setup.bash\n",
    "cd ~/ros2_ws/src\n",
    "ros2 pkg create --build-type ament_python <package_name> --node-name demo_node\n",
    "cd ~/ros2_ws\n",
    "colcon build\n",
    "```\n",
    "\n",
    "### Ausführen des Hello World Programms\n",
    "\n",
    "\n",
    "Nach dem Bauen kannst du nun deinen lokalen ROS2 Workspace source:\n",
    "\n",
    "```bash\n",
    "source ~/ros2_ws/install/setup.bash\n",
    "```\n",
    "\n",
    "Anschließend kannst du die erstellte Node mit folgendem Befehl starten:\n",
    "\n",
    "```bash\n",
    "ros2 run demo demo_node\n",
    "> Hi from demo.\n",
    "```"
   ]
  }
 ],
 "metadata": {
  "jupytext": {
   "formats": "md:myst",
   "text_representation": {
    "extension": ".md",
    "format_name": "myst"
   }
  },
  "kernelspec": {
   "display_name": "Python 3",
   "language": "python",
   "name": "python3"
  },
  "source_map": [
   11
  ]
 },
 "nbformat": 4,
 "nbformat_minor": 5
}