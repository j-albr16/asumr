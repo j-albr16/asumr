{
 "cells": [
  {
   "cell_type": "markdown",
   "id": "88a9c2cb",
   "metadata": {},
   "source": [
    "# Aufgabe\n",
    "\n",
    "\n",
    "## Aufgabe 1\n",
    "\n",
    "Erstelle ein Launch file"
   ]
  }
 ],
 "metadata": {
  "jupytext": {
   "formats": "md:myst",
   "text_representation": {
    "extension": ".md",
    "format_name": "myst"
   }
  },
  "kernelspec": {
   "display_name": "Python 3",
   "language": "python",
   "name": "python3"
  },
  "source_map": [
   11
  ]
 },
 "nbformat": 4,
 "nbformat_minor": 5
}