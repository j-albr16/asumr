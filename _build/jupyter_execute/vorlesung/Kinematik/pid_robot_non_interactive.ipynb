{
 "cells": [
  {
   "cell_type": "markdown",
   "id": "b13cc772",
   "metadata": {},
   "source": [
    "# PID Robot non Interactive"
   ]
  },
  {
   "cell_type": "code",
   "execution_count": 1,
   "id": "a26b5821",
   "metadata": {},
   "outputs": [],
   "source": [
    "import matplotlib as mpl\n",
    "import matplotlib.pyplot as plt\n",
    "import numpy as np\n",
    "from matplotlib.patches import Rectangle, Polygon, Arrow\n",
    "from matplotlib.collections import PatchCollection\n",
    "import time"
   ]
  },
  {
   "cell_type": "code",
   "execution_count": 2,
   "id": "c399689b",
   "metadata": {},
   "outputs": [],
   "source": [
    "# Define a RobotCar class\n",
    "class RobotCar:\n",
    "    def __init__(self, control_fct, initial_pose=[0., 4., 0.], command=[0.1, 0.]):\n",
    "        self.pose = np.array(initial_pose)  # Robot's pose [x, y, theta]\n",
    "        self.command = np.array(command)  # Robot's command [velocity, turning angle]\n",
    "        self.hist_pos = np.array([[0.], [4.]])  # History of robot's positions for plotting\n",
    "\n",
    "        self.control_function = control_fct\n",
    "\n",
    "        # Create a figure and axis\n",
    "        fig, ax = plt.subplots(1, 1, figsize=(8, 4))\n",
    "\n",
    "        self.fig = fig\n",
    "        self.ax = ax\n",
    "        # Set the axis limits and aspect ratio\n",
    "        self.ax.set_xlim(-1, 23)\n",
    "        self.ax.set_ylim(-6, 6)\n",
    "        self.ax.set_aspect('equal')\n",
    "\n",
    "        self.error = 0.\n",
    "\n",
    "        self.ax.plot([-2.,25], [0.,0.], color=\"green\")\n",
    "\n",
    "        self.init_visualization_patches()\n",
    "\n",
    "    def init_visualization_patches(self):\n",
    "        # Create the robot body and wheels\n",
    "        v_initial = [[-1, -0.5], [-1, 0.5], [1, 0.5], [1, -0.5]]\n",
    "        body = Polygon(v_initial, closed=True, fc='r', ec='gray')\n",
    "        left_front_wheel = Rectangle((0.3, 0.5), 0.4, 0.1, fc='gray', ec='black', lw=3)\n",
    "        left_hind_wheel = Rectangle((-0.7, 0.5), 0.4, 0.1, fc='gray', ec='black', lw=3)\n",
    "        right_front_wheel = Rectangle((0.3, -0.5), 0.4, 0.1, fc='gray', ec='black', lw=3)\n",
    "        right_hind_wheel = Rectangle((-0.7, -0.5), 0.4, 0.1, fc='gray', ec='black', lw=3)\n",
    "\n",
    "        self.robot = PatchCollection([body, left_front_wheel,left_hind_wheel, right_front_wheel,right_hind_wheel], match_original=True)\n",
    "        self.arrow_left = Arrow(1,0,1,0, width=0.5, color=\"blue\")\n",
    "        # Add the patches to the axis\n",
    "        self.ax.add_collection( self.robot )\n",
    "        self.arr_hook = self.ax.add_patch( self.arrow_left )\n",
    "\n",
    "        self.line_robot_hist, = self.ax.plot(self.hist_pos[0], self.hist_pos[1], zorder=0)\n",
    "\n",
    "    def update_visualization(self):\n",
    "        # Update the visualization of the robot's pose and history\n",
    "        r = mpl.transforms.Affine2D().rotate(self.pose[2])\n",
    "        t = mpl.transforms.Affine2D().translate(self.pose[0], self.pose[1])\n",
    "        tra = r + t + self.ax.transData\n",
    "        self.robot.set_transform(tra)\n",
    "        self.line_robot_hist.set_data(self.hist_pos)\n",
    "        self.arr_hook.remove()\n",
    "        self.arrow_left = Arrow(1, 0, 1, self.command[1] * 15, width=0.5, color=\"blue\")\n",
    "        self.arr_hook = self.ax.add_patch( self.arrow_left )\n",
    "        self.arrow_left.set_transform(tra)\n",
    "\n",
    "    def reset_position(self, button):\n",
    "        # Reset the position of the robot\n",
    "        self.pose = np.array([0., 4., 0.])\n",
    "        self.hist_pos = np.array([[0.], [4.]])\n",
    "        self.update_visualization()\n",
    "\n",
    "    def simulate_one_step(self, button=None):\n",
    "        self.error = -self.pose[1]\n",
    "        self.command[1] = self.control_function( self.error )\n",
    "        if self.command[1] < -0.03:\n",
    "            self.command[1] = -0.03\n",
    "        elif self.command[1] > 0.03:\n",
    "            self.command[1] = 0.03 \n",
    "        # Simulate one step of the robot's motion\n",
    "        self.pose[0] += np.cos(self.pose[2]) * self.command[0]\n",
    "        self.pose[1] += np.sin(self.pose[2]) * self.command[0]\n",
    "        self.pose[2] += self.command[1]\n",
    "        self.hist_pos = np.append(self.hist_pos, np.array([[self.pose[0]], [self.pose[1]]]), axis=1)\n",
    "        self.update_visualization()\n",
    "       #self.fig.canvas.draw()\n",
    "\n",
    "    def simulation_run(self, steps=400, button=None):\n",
    "        # Run the simulation for a certain number of steps\n",
    "        for i in range(0, steps):\n",
    "            self.simulate_one_step(button)\n",
    "            #time.sleep(0.02)"
   ]
  },
  {
   "cell_type": "code",
   "execution_count": 3,
   "id": "946eead3",
   "metadata": {},
   "outputs": [],
   "source": [
    "def control_function( error ):\n",
    "    steering = np.sign(error)\n",
    "    return steering"
   ]
  },
  {
   "cell_type": "code",
   "execution_count": 4,
   "id": "53b9815b",
   "metadata": {},
   "outputs": [
    {
     "data": {
      "image/png": "[encoded data removed]",
      "text/plain": [
       "<Figure size 800x400 with 1 Axes>"
      ]
     },
     "metadata": {},
     "output_type": "display_data"
    }
   ],
   "source": [
    "# Create a RobotCar instance\n",
    "robot_car = RobotCar( control_function )\n",
    "\n",
    "# Start the simulation\n",
    "robot_car.update_visualization()\n",
    "robot_car.simulation_run( 400 )\n",
    "plt.show()"
   ]
  },
  {
   "cell_type": "code",
   "execution_count": null,
   "id": "3abee3f3",
   "metadata": {},
   "outputs": [],
   "source": []
  }
 ],
 "metadata": {
  "jupytext": {
   "text_representation": {
    "extension": ".md",
    "format_name": "myst",
    "format_version": 0.13,
    "jupytext_version": "1.15.2"
   }
  },
  "kernelspec": {
   "display_name": "py_38",
   "language": "python",
   "name": "python3"
  },
  "language_info": {
   "codemirror_mode": {
    "name": "ipython",
    "version": 3
   },
   "file_extension": ".py",
   "mimetype": "text/x-python",
   "name": "python",
   "nbconvert_exporter": "python",
   "pygments_lexer": "ipython3",
   "version": "3.10.12"
  },
  "source_map": [
   12,
   16,
   25,
   108,
   114,
   124
  ]
 },
 "nbformat": 4,
 "nbformat_minor": 5
}