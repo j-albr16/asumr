{
 "cells": [
  {
   "cell_type": "markdown",
   "id": "9bc62238",
   "metadata": {},
   "source": [
    "# Demonstration of the roboticstoolbox for python\n",
    "\n",
    "The roboticstoolbox provides kinematics calculations for multiple common manipulator arms. Here, we will just demonstrate using these. For more information see the [documentation](https://petercorke.github.io/robotics-toolbox-python/)."
   ]
  },
  {
   "cell_type": "code",
   "execution_count": 1,
   "id": "8473414b",
   "metadata": {},
   "outputs": [
    {
     "name": "stdout",
     "output_type": "stream",
     "text": [
      "Requirement already satisfied: roboticstoolbox-python in /home/scrutycs/uni/5-Semester/ASUMR/venv/lib/python3.10/site-packages (1.1.0)\r\n",
      "Requirement already satisfied: matplotlib in /home/scrutycs/uni/5-Semester/ASUMR/venv/lib/python3.10/site-packages (from roboticstoolbox-python) (3.8.1)\r\n",
      "Requirement already satisfied: numpy>=1.17.4 in /home/scrutycs/uni/5-Semester/ASUMR/venv/lib/python3.10/site-packages (from roboticstoolbox-python) (1.26.2)\r\n",
      "Requirement already satisfied: ansitable in /home/scrutycs/uni/5-Semester/ASUMR/venv/lib/python3.10/site-packages (from roboticstoolbox-python) (0.9.10)\r\n",
      "Requirement already satisfied: typing-extensions in /home/scrutycs/uni/5-Semester/ASUMR/venv/lib/python3.10/site-packages (from roboticstoolbox-python) (4.8.0)\r\n",
      "Requirement already satisfied: progress in /home/scrutycs/uni/5-Semester/ASUMR/venv/lib/python3.10/site-packages (from roboticstoolbox-python) (1.6)\r\n",
      "Requirement already satisfied: scipy in /home/scrutycs/uni/5-Semester/ASUMR/venv/lib/python3.10/site-packages (from roboticstoolbox-python) (1.11.3)\r\n",
      "Requirement already satisfied: pgraph-python in /home/scrutycs/uni/5-Semester/ASUMR/venv/lib/python3.10/site-packages (from roboticstoolbox-python) (0.6.2)\r\n",
      "Requirement already satisfied: spatialgeometry>=1.0.0 in /home/scrutycs/uni/5-Semester/ASUMR/venv/lib/python3.10/site-packages (from roboticstoolbox-python) (1.1.0)\r\n",
      "Requirement already satisfied: rtb-data in /home/scrutycs/uni/5-Semester/ASUMR/venv/lib/python3.10/site-packages (from roboticstoolbox-python) (1.0.1)\r\n",
      "Requirement already satisfied: spatialmath-python>=1.1.5 in /home/scrutycs/uni/5-Semester/ASUMR/venv/lib/python3.10/site-packages (from roboticstoolbox-python) (1.1.8)\r\n",
      "Requirement already satisfied: swift-sim>=1.0.0 in /home/scrutycs/uni/5-Semester/ASUMR/venv/lib/python3.10/site-packages (from roboticstoolbox-python) (1.1.0)\r\n"
     ]
    },
    {
     "name": "stdout",
     "output_type": "stream",
     "text": [
      "Requirement already satisfied: websockets in /home/scrutycs/uni/5-Semester/ASUMR/venv/lib/python3.10/site-packages (from swift-sim>=1.0.0->roboticstoolbox-python) (12.0)\r\n",
      "Requirement already satisfied: colored<1.5.0 in /home/scrutycs/uni/5-Semester/ASUMR/venv/lib/python3.10/site-packages (from ansitable->roboticstoolbox-python) (1.4.4)\r\n",
      "Requirement already satisfied: pyparsing>=2.3.1 in /home/scrutycs/uni/5-Semester/ASUMR/venv/lib/python3.10/site-packages (from matplotlib->roboticstoolbox-python) (3.1.1)\r\n",
      "Requirement already satisfied: contourpy>=1.0.1 in /home/scrutycs/uni/5-Semester/ASUMR/venv/lib/python3.10/site-packages (from matplotlib->roboticstoolbox-python) (1.2.0)\r\n",
      "Requirement already satisfied: packaging>=20.0 in /home/scrutycs/uni/5-Semester/ASUMR/venv/lib/python3.10/site-packages (from matplotlib->roboticstoolbox-python) (23.2)\r\n",
      "Requirement already satisfied: fonttools>=4.22.0 in /home/scrutycs/uni/5-Semester/ASUMR/venv/lib/python3.10/site-packages (from matplotlib->roboticstoolbox-python) (4.44.0)\r\n",
      "Requirement already satisfied: cycler>=0.10 in /home/scrutycs/uni/5-Semester/ASUMR/venv/lib/python3.10/site-packages (from matplotlib->roboticstoolbox-python) (0.12.1)\r\n",
      "Requirement already satisfied: kiwisolver>=1.3.1 in /home/scrutycs/uni/5-Semester/ASUMR/venv/lib/python3.10/site-packages (from matplotlib->roboticstoolbox-python) (1.4.5)\r\n",
      "Requirement already satisfied: pillow>=8 in /home/scrutycs/uni/5-Semester/ASUMR/venv/lib/python3.10/site-packages (from matplotlib->roboticstoolbox-python) (10.1.0)\r\n",
      "Requirement already satisfied: python-dateutil>=2.7 in /home/scrutycs/uni/5-Semester/ASUMR/venv/lib/python3.10/site-packages (from matplotlib->roboticstoolbox-python) (2.8.2)\r\n"
     ]
    },
    {
     "name": "stdout",
     "output_type": "stream",
     "text": [
      "Requirement already satisfied: six>=1.5 in /home/scrutycs/uni/5-Semester/ASUMR/venv/lib/python3.10/site-packages (from python-dateutil>=2.7->matplotlib->roboticstoolbox-python) (1.16.0)\r\n"
     ]
    }
   ],
   "source": [
    "# Install the pip package in the current Jupyter kernel if neccessary \n",
    "import sys\n",
    "!{sys.executable} -m pip install roboticstoolbox-python\n",
    "\n",
    "# You have to restart the kernel afterwards!"
   ]
  },
  {
   "cell_type": "markdown",
   "id": "81989def",
   "metadata": {},
   "source": [
    "## A) Puma 560 Robot Arm\n",
    "\n",
    "Simple example for the Puma 560, six degrees of freedom arm. Provided are the DH parameters and a simple forward kinematic setup as well as an inverse kinematics call (using analytical solution.)"
   ]
  },
  {
   "cell_type": "code",
   "execution_count": 2,
   "id": "987c4fc0",
   "metadata": {},
   "outputs": [
    {
     "name": "stdout",
     "output_type": "stream",
     "text": [
      "DHRobot: Puma 560 (by Unimation), 6 joints (RRRRRR), dynamics, geometry, standard DH parameters\n",
      "┌────┬────────┬────────┬────────┬─────────┬────────┐\n",
      "│θⱼ  │   dⱼ   │   aⱼ   │   ⍺ⱼ   │   q⁻    │   q⁺   │\n",
      "├────┼────────┼────────┼────────┼─────────┼────────┤\n",
      "│ q1\u001b[0m │ 0.6718\u001b[0m │      0\u001b[0m │  90.0°\u001b[0m │ -160.0°\u001b[0m │ 160.0°\u001b[0m │\n",
      "│ q2\u001b[0m │      0\u001b[0m │ 0.4318\u001b[0m │   0.0°\u001b[0m │ -110.0°\u001b[0m │ 110.0°\u001b[0m │\n",
      "│ q3\u001b[0m │   0.15\u001b[0m │ 0.0203\u001b[0m │ -90.0°\u001b[0m │ -135.0°\u001b[0m │ 135.0°\u001b[0m │\n",
      "│ q4\u001b[0m │ 0.4318\u001b[0m │      0\u001b[0m │  90.0°\u001b[0m │ -266.0°\u001b[0m │ 266.0°\u001b[0m │\n",
      "│ q5\u001b[0m │      0\u001b[0m │      0\u001b[0m │ -90.0°\u001b[0m │ -100.0°\u001b[0m │ 100.0°\u001b[0m │\n",
      "│ q6\u001b[0m │      0\u001b[0m │      0\u001b[0m │   0.0°\u001b[0m │ -266.0°\u001b[0m │ 266.0°\u001b[0m │\n",
      "└────┴────────┴────────┴────────┴─────────┴────────┘\n",
      "\n",
      "┌─┬──┐\n",
      "└─┴──┘\n",
      "\n",
      "┌─────┬─────┬──────┬───────┬─────┬──────┬─────┐\n",
      "│name │ q0  │ q1   │ q2    │ q3  │ q4   │ q5  │\n",
      "├─────┼─────┼──────┼───────┼─────┼──────┼─────┤\n",
      "│  qr\u001b[0m │  0°\u001b[0m │  90°\u001b[0m │ -90°\u001b[0m  │  0°\u001b[0m │  0°\u001b[0m  │  0°\u001b[0m │\n",
      "│  qz\u001b[0m │  0°\u001b[0m │  0°\u001b[0m  │  0°\u001b[0m   │  0°\u001b[0m │  0°\u001b[0m  │  0°\u001b[0m │\n",
      "│  qn\u001b[0m │  0°\u001b[0m │  45°\u001b[0m │  180°\u001b[0m │  0°\u001b[0m │  45°\u001b[0m │  0°\u001b[0m │\n",
      "│  qs\u001b[0m │  0°\u001b[0m │  0°\u001b[0m  │ -90°\u001b[0m  │  0°\u001b[0m │  0°\u001b[0m  │  0°\u001b[0m │\n",
      "└─────┴─────┴──────┴───────┴─────┴──────┴─────┘\n",
      "\n",
      "IKSolution: q=[0.1, 0.2, 0.3, 0.4, 0.5, 0.6], success=True, iterations=9, searches=1, residual=2.02e-10\n"
     ]
    }
   ],
   "source": [
    "import roboticstoolbox as rtb\n",
    "puma = rtb.models.DH.Puma560()       # instantiate robot model\n",
    "print(puma)\n",
    "T = puma.fkine([0.1, 0.2, 0.3, 0.4, 0.5, 0.6])\n",
    "sol = puma.ikine_LM(T) \n",
    "print(sol)"
   ]
  },
  {
   "cell_type": "markdown",
   "id": "08a49c60",
   "metadata": {},
   "source": [
    "For visualization we can use matplotlib:"
   ]
  },
  {
   "cell_type": "code",
   "execution_count": 3,
   "id": "0a534dc2",
   "metadata": {},
   "outputs": [
    {
     "ename": "ModuleNotFoundError",
     "evalue": "No module named 'ipympl'",
     "output_type": "error",
     "traceback": [
      "\u001b[0;31m---------------------------------------------------------------------------\u001b[0m",
      "\u001b[0;31mModuleNotFoundError\u001b[0m                       Traceback (most recent call last)",
      "Cell \u001b[0;32mIn[3], line 1\u001b[0m\n\u001b[0;32m----> 1\u001b[0m \u001b[43mget_ipython\u001b[49m\u001b[43m(\u001b[49m\u001b[43m)\u001b[49m\u001b[38;5;241;43m.\u001b[39;49m\u001b[43mrun_line_magic\u001b[49m\u001b[43m(\u001b[49m\u001b[38;5;124;43m'\u001b[39;49m\u001b[38;5;124;43mmatplotlib\u001b[39;49m\u001b[38;5;124;43m'\u001b[39;49m\u001b[43m,\u001b[49m\u001b[43m \u001b[49m\u001b[38;5;124;43m'\u001b[39;49m\u001b[38;5;124;43mwidget\u001b[39;49m\u001b[38;5;124;43m'\u001b[39;49m\u001b[43m)\u001b[49m\n\u001b[1;32m      2\u001b[0m puma\u001b[38;5;241m.\u001b[39mplot(sol\u001b[38;5;241m.\u001b[39mq)\n",
      "File \u001b[0;32m~/uni/5-Semester/ASUMR/venv/lib/python3.10/site-packages/IPython/core/interactiveshell.py:2432\u001b[0m, in \u001b[0;36mInteractiveShell.run_line_magic\u001b[0;34m(self, magic_name, line, _stack_depth)\u001b[0m\n\u001b[1;32m   2430\u001b[0m     kwargs[\u001b[38;5;124m'\u001b[39m\u001b[38;5;124mlocal_ns\u001b[39m\u001b[38;5;124m'\u001b[39m] \u001b[38;5;241m=\u001b[39m \u001b[38;5;28mself\u001b[39m\u001b[38;5;241m.\u001b[39mget_local_scope(stack_depth)\n\u001b[1;32m   2431\u001b[0m \u001b[38;5;28;01mwith\u001b[39;00m \u001b[38;5;28mself\u001b[39m\u001b[38;5;241m.\u001b[39mbuiltin_trap:\n\u001b[0;32m-> 2432\u001b[0m     result \u001b[38;5;241m=\u001b[39m \u001b[43mfn\u001b[49m\u001b[43m(\u001b[49m\u001b[38;5;241;43m*\u001b[39;49m\u001b[43margs\u001b[49m\u001b[43m,\u001b[49m\u001b[43m \u001b[49m\u001b[38;5;241;43m*\u001b[39;49m\u001b[38;5;241;43m*\u001b[39;49m\u001b[43mkwargs\u001b[49m\u001b[43m)\u001b[49m\n\u001b[1;32m   2434\u001b[0m \u001b[38;5;66;03m# The code below prevents the output from being displayed\u001b[39;00m\n\u001b[1;32m   2435\u001b[0m \u001b[38;5;66;03m# when using magics with decorator @output_can_be_silenced\u001b[39;00m\n\u001b[1;32m   2436\u001b[0m \u001b[38;5;66;03m# when the last Python token in the expression is a ';'.\u001b[39;00m\n\u001b[1;32m   2437\u001b[0m \u001b[38;5;28;01mif\u001b[39;00m \u001b[38;5;28mgetattr\u001b[39m(fn, magic\u001b[38;5;241m.\u001b[39mMAGIC_OUTPUT_CAN_BE_SILENCED, \u001b[38;5;28;01mFalse\u001b[39;00m):\n",
      "File \u001b[0;32m~/uni/5-Semester/ASUMR/venv/lib/python3.10/site-packages/IPython/core/magics/pylab.py:99\u001b[0m, in \u001b[0;36mPylabMagics.matplotlib\u001b[0;34m(self, line)\u001b[0m\n\u001b[1;32m     97\u001b[0m     \u001b[38;5;28mprint\u001b[39m(\u001b[38;5;124m\"\u001b[39m\u001b[38;5;124mAvailable matplotlib backends: \u001b[39m\u001b[38;5;132;01m%s\u001b[39;00m\u001b[38;5;124m\"\u001b[39m \u001b[38;5;241m%\u001b[39m backends_list)\n\u001b[1;32m     98\u001b[0m \u001b[38;5;28;01melse\u001b[39;00m:\n\u001b[0;32m---> 99\u001b[0m     gui, backend \u001b[38;5;241m=\u001b[39m \u001b[38;5;28;43mself\u001b[39;49m\u001b[38;5;241;43m.\u001b[39;49m\u001b[43mshell\u001b[49m\u001b[38;5;241;43m.\u001b[39;49m\u001b[43menable_matplotlib\u001b[49m\u001b[43m(\u001b[49m\u001b[43margs\u001b[49m\u001b[38;5;241;43m.\u001b[39;49m\u001b[43mgui\u001b[49m\u001b[38;5;241;43m.\u001b[39;49m\u001b[43mlower\u001b[49m\u001b[43m(\u001b[49m\u001b[43m)\u001b[49m\u001b[43m \u001b[49m\u001b[38;5;28;43;01mif\u001b[39;49;00m\u001b[43m \u001b[49m\u001b[38;5;28;43misinstance\u001b[39;49m\u001b[43m(\u001b[49m\u001b[43margs\u001b[49m\u001b[38;5;241;43m.\u001b[39;49m\u001b[43mgui\u001b[49m\u001b[43m,\u001b[49m\u001b[43m \u001b[49m\u001b[38;5;28;43mstr\u001b[39;49m\u001b[43m)\u001b[49m\u001b[43m \u001b[49m\u001b[38;5;28;43;01melse\u001b[39;49;00m\u001b[43m \u001b[49m\u001b[43margs\u001b[49m\u001b[38;5;241;43m.\u001b[39;49m\u001b[43mgui\u001b[49m\u001b[43m)\u001b[49m\n\u001b[1;32m    100\u001b[0m     \u001b[38;5;28mself\u001b[39m\u001b[38;5;241m.\u001b[39m_show_matplotlib_backend(args\u001b[38;5;241m.\u001b[39mgui, backend)\n",
      "File \u001b[0;32m~/uni/5-Semester/ASUMR/venv/lib/python3.10/site-packages/IPython/core/interactiveshell.py:3621\u001b[0m, in \u001b[0;36mInteractiveShell.enable_matplotlib\u001b[0;34m(self, gui)\u001b[0m\n\u001b[1;32m   3617\u001b[0m         \u001b[38;5;28mprint\u001b[39m(\u001b[38;5;124m'\u001b[39m\u001b[38;5;124mWarning: Cannot change to a different GUI toolkit: \u001b[39m\u001b[38;5;132;01m%s\u001b[39;00m\u001b[38;5;124m.\u001b[39m\u001b[38;5;124m'\u001b[39m\n\u001b[1;32m   3618\u001b[0m                 \u001b[38;5;124m'\u001b[39m\u001b[38;5;124m Using \u001b[39m\u001b[38;5;132;01m%s\u001b[39;00m\u001b[38;5;124m instead.\u001b[39m\u001b[38;5;124m'\u001b[39m \u001b[38;5;241m%\u001b[39m (gui, \u001b[38;5;28mself\u001b[39m\u001b[38;5;241m.\u001b[39mpylab_gui_select))\n\u001b[1;32m   3619\u001b[0m         gui, backend \u001b[38;5;241m=\u001b[39m pt\u001b[38;5;241m.\u001b[39mfind_gui_and_backend(\u001b[38;5;28mself\u001b[39m\u001b[38;5;241m.\u001b[39mpylab_gui_select)\n\u001b[0;32m-> 3621\u001b[0m \u001b[43mpt\u001b[49m\u001b[38;5;241;43m.\u001b[39;49m\u001b[43mactivate_matplotlib\u001b[49m\u001b[43m(\u001b[49m\u001b[43mbackend\u001b[49m\u001b[43m)\u001b[49m\n\u001b[1;32m   3622\u001b[0m configure_inline_support(\u001b[38;5;28mself\u001b[39m, backend)\n\u001b[1;32m   3624\u001b[0m \u001b[38;5;66;03m# Now we must activate the gui pylab wants to use, and fix %run to take\u001b[39;00m\n\u001b[1;32m   3625\u001b[0m \u001b[38;5;66;03m# plot updates into account\u001b[39;00m\n",
      "File \u001b[0;32m~/uni/5-Semester/ASUMR/venv/lib/python3.10/site-packages/IPython/core/pylabtools.py:368\u001b[0m, in \u001b[0;36mactivate_matplotlib\u001b[0;34m(backend)\u001b[0m\n\u001b[1;32m    363\u001b[0m \u001b[38;5;66;03m# Due to circular imports, pyplot may be only partially initialised\u001b[39;00m\n\u001b[1;32m    364\u001b[0m \u001b[38;5;66;03m# when this function runs.\u001b[39;00m\n\u001b[1;32m    365\u001b[0m \u001b[38;5;66;03m# So avoid needing matplotlib attribute-lookup to access pyplot.\u001b[39;00m\n\u001b[1;32m    366\u001b[0m \u001b[38;5;28;01mfrom\u001b[39;00m \u001b[38;5;21;01mmatplotlib\u001b[39;00m \u001b[38;5;28;01mimport\u001b[39;00m pyplot \u001b[38;5;28;01mas\u001b[39;00m plt\n\u001b[0;32m--> 368\u001b[0m \u001b[43mplt\u001b[49m\u001b[38;5;241;43m.\u001b[39;49m\u001b[43mswitch_backend\u001b[49m\u001b[43m(\u001b[49m\u001b[43mbackend\u001b[49m\u001b[43m)\u001b[49m\n\u001b[1;32m    370\u001b[0m plt\u001b[38;5;241m.\u001b[39mshow\u001b[38;5;241m.\u001b[39m_needmain \u001b[38;5;241m=\u001b[39m \u001b[38;5;28;01mFalse\u001b[39;00m\n\u001b[1;32m    371\u001b[0m \u001b[38;5;66;03m# We need to detect at runtime whether show() is called by the user.\u001b[39;00m\n\u001b[1;32m    372\u001b[0m \u001b[38;5;66;03m# For this, we wrap it into a decorator which adds a 'called' flag.\u001b[39;00m\n",
      "File \u001b[0;32m~/uni/5-Semester/ASUMR/venv/lib/python3.10/site-packages/matplotlib/pyplot.py:342\u001b[0m, in \u001b[0;36mswitch_backend\u001b[0;34m(newbackend)\u001b[0m\n\u001b[1;32m    339\u001b[0m \u001b[38;5;66;03m# have to escape the switch on access logic\u001b[39;00m\n\u001b[1;32m    340\u001b[0m old_backend \u001b[38;5;241m=\u001b[39m \u001b[38;5;28mdict\u001b[39m\u001b[38;5;241m.\u001b[39m\u001b[38;5;21m__getitem__\u001b[39m(rcParams, \u001b[38;5;124m'\u001b[39m\u001b[38;5;124mbackend\u001b[39m\u001b[38;5;124m'\u001b[39m)\n\u001b[0;32m--> 342\u001b[0m module \u001b[38;5;241m=\u001b[39m \u001b[43mimportlib\u001b[49m\u001b[38;5;241;43m.\u001b[39;49m\u001b[43mimport_module\u001b[49m\u001b[43m(\u001b[49m\u001b[43mcbook\u001b[49m\u001b[38;5;241;43m.\u001b[39;49m\u001b[43m_backend_module_name\u001b[49m\u001b[43m(\u001b[49m\u001b[43mnewbackend\u001b[49m\u001b[43m)\u001b[49m\u001b[43m)\u001b[49m\n\u001b[1;32m    343\u001b[0m canvas_class \u001b[38;5;241m=\u001b[39m module\u001b[38;5;241m.\u001b[39mFigureCanvas\n\u001b[1;32m    345\u001b[0m required_framework \u001b[38;5;241m=\u001b[39m canvas_class\u001b[38;5;241m.\u001b[39mrequired_interactive_framework\n",
      "File \u001b[0;32m/usr/lib/python3.10/importlib/__init__.py:126\u001b[0m, in \u001b[0;36mimport_module\u001b[0;34m(name, package)\u001b[0m\n\u001b[1;32m    124\u001b[0m             \u001b[38;5;28;01mbreak\u001b[39;00m\n\u001b[1;32m    125\u001b[0m         level \u001b[38;5;241m+\u001b[39m\u001b[38;5;241m=\u001b[39m \u001b[38;5;241m1\u001b[39m\n\u001b[0;32m--> 126\u001b[0m \u001b[38;5;28;01mreturn\u001b[39;00m \u001b[43m_bootstrap\u001b[49m\u001b[38;5;241;43m.\u001b[39;49m\u001b[43m_gcd_import\u001b[49m\u001b[43m(\u001b[49m\u001b[43mname\u001b[49m\u001b[43m[\u001b[49m\u001b[43mlevel\u001b[49m\u001b[43m:\u001b[49m\u001b[43m]\u001b[49m\u001b[43m,\u001b[49m\u001b[43m \u001b[49m\u001b[43mpackage\u001b[49m\u001b[43m,\u001b[49m\u001b[43m \u001b[49m\u001b[43mlevel\u001b[49m\u001b[43m)\u001b[49m\n",
      "File \u001b[0;32m<frozen importlib._bootstrap>:1050\u001b[0m, in \u001b[0;36m_gcd_import\u001b[0;34m(name, package, level)\u001b[0m\n",
      "File \u001b[0;32m<frozen importlib._bootstrap>:1027\u001b[0m, in \u001b[0;36m_find_and_load\u001b[0;34m(name, import_)\u001b[0m\n",
      "File \u001b[0;32m<frozen importlib._bootstrap>:992\u001b[0m, in \u001b[0;36m_find_and_load_unlocked\u001b[0;34m(name, import_)\u001b[0m\n",
      "File \u001b[0;32m<frozen importlib._bootstrap>:241\u001b[0m, in \u001b[0;36m_call_with_frames_removed\u001b[0;34m(f, *args, **kwds)\u001b[0m\n",
      "File \u001b[0;32m<frozen importlib._bootstrap>:1050\u001b[0m, in \u001b[0;36m_gcd_import\u001b[0;34m(name, package, level)\u001b[0m\n",
      "File \u001b[0;32m<frozen importlib._bootstrap>:1027\u001b[0m, in \u001b[0;36m_find_and_load\u001b[0;34m(name, import_)\u001b[0m\n",
      "File \u001b[0;32m<frozen importlib._bootstrap>:1004\u001b[0m, in \u001b[0;36m_find_and_load_unlocked\u001b[0;34m(name, import_)\u001b[0m\n",
      "\u001b[0;31mModuleNotFoundError\u001b[0m: No module named 'ipympl'"
     ]
    }
   ],
   "source": [
    "%matplotlib widget\n",
    "puma.plot(sol.q)"
   ]
  },
  {
   "cell_type": "markdown",
   "id": "ec7a7244",
   "metadata": {},
   "source": [
    "## B) Panda robot\n",
    "\n",
    "with seven degrees of freedom."
   ]
  },
  {
   "cell_type": "code",
   "execution_count": null,
   "id": "fc3bcea1",
   "metadata": {},
   "outputs": [],
   "source": [
    "import roboticstoolbox as rtb\n",
    "panda = rtb.models.DH.Panda()\n",
    "print(panda)"
   ]
  },
  {
   "cell_type": "markdown",
   "id": "3f28dfdb",
   "metadata": {},
   "source": [
    "## Visualization\n",
    "\n",
    "For more advanced simulation, see the documentation and running the toolbox locally on your system. This allows to setup the nice swift simulator in your browser.\n",
    "\n",
    "![](https://petercorke.github.io/robotics-toolbox-python/_images/swift.png){width=400px})"
   ]
  }
 ],
 "metadata": {
  "jupytext": {
   "text_representation": {
    "extension": ".md",
    "format_name": "myst",
    "format_version": 0.13,
    "jupytext_version": "1.15.2"
   }
  },
  "kernelspec": {
   "display_name": "py_38",
   "language": "python",
   "name": "python3"
  },
  "language_info": {
   "codemirror_mode": {
    "name": "ipython",
    "version": 3
   },
   "file_extension": ".py",
   "mimetype": "text/x-python",
   "name": "python",
   "nbconvert_exporter": "python",
   "pygments_lexer": "ipython3",
   "version": "3.10.12"
  },
  "source_map": [
   12,
   18,
   24,
   30,
   37,
   41,
   44,
   50,
   54
  ]
 },
 "nbformat": 4,
 "nbformat_minor": 5
}