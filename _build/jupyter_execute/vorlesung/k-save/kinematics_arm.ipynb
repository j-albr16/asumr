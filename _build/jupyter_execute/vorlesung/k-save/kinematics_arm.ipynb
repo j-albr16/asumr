{
 "cells": [
  {
   "cell_type": "markdown",
   "id": "4196ef5c",
   "metadata": {},
   "source": [
    "# Kinematic calculation for a 2-segmented arm in two dimensions\n",
    "\n",
    "Given is a 2-segmented manipulator. Your task is to provide the inverse kinematic calculation for the arm. The segments length are initialized to 1 and there is a visualization of a given posture."
   ]
  },
  {
   "cell_type": "markdown",
   "id": "d8c120ac",
   "metadata": {},
   "source": [
    "## First: A simple one segmented arm\n",
    "\n",
    "The solution is already provided:"
   ]
  },
  {
   "cell_type": "code",
   "execution_count": 1,
   "id": "ad458f1d",
   "metadata": {},
   "outputs": [
    {
     "name": "stdout",
     "output_type": "stream",
     "text": [
      "Endpoint position: [0.70710678 0.70710678]\n",
      "Joint angles: [0.78539816]\n"
     ]
    },
    {
     "data": {
      "image/png": "[encoded data removed]",
      "text/plain": [
       "<Figure size 640x480 with 1 Axes>"
      ]
     },
     "metadata": {},
     "output_type": "display_data"
    }
   ],
   "source": [
    "import numpy as np\n",
    "import matplotlib.pyplot as plt\n",
    "\n",
    "class OneSegmentManipulator:\n",
    "    def __init__(self, length=1):\n",
    "        # Constructor to set the length of the segment\n",
    "        self.length = length\n",
    "    \n",
    "    def forward_kinematics(self, theta):\n",
    "        # Method to compute the forward kinematics of the manipulator\n",
    "        # based on the joint angle theta\n",
    "        x = self.length * np.cos(theta)\n",
    "        y = self.length * np.sin(theta)\n",
    "        return np.array([x, y])\n",
    "    \n",
    "    def inverse_kinematics(self, target):\n",
    "        # Method to compute the inverse kinematics of the manipulator\n",
    "        # based on the target position (x, y)\n",
    "        x, y = target\n",
    "        theta = np.arctan2(y, x)\n",
    "        return np.array([theta])\n",
    "    \n",
    "    def visualize(self, theta):\n",
    "        # Method to visualize the manipulator given the joint angle theta\n",
    "        p1 = np.array([0, 0])\n",
    "        p2 = np.array([self.length * np.cos(theta), self.length * np.sin(theta)])\n",
    "        \n",
    "        # Plot the segment of the manipulator\n",
    "        plt.plot([p1[0], p2[0]], [p1[1], p2[1]], 'bo-')\n",
    "        plt.xlim(-2, 2)\n",
    "        plt.ylim(-2, 2)\n",
    "        plt.show()\n",
    "\n",
    "# Create an instance of the OneSegmentManipulator class with length 1\n",
    "manipulator = OneSegmentManipulator(length=1)\n",
    "\n",
    "# Compute the forward kinematics given the joint angle pi/4\n",
    "theta = np.pi/4\n",
    "endpoint = manipulator.forward_kinematics(theta)\n",
    "print('Endpoint position:', endpoint)\n",
    "\n",
    "# Compute the inverse kinematics given the target position (0.5, 0.5)\n",
    "target = np.array([0.5, 0.5])\n",
    "joint_angles = manipulator.inverse_kinematics(target)\n",
    "print('Joint angles:', joint_angles)\n",
    "\n",
    "# Visualize the arm posture given the joint angle pi/4\n",
    "manipulator.visualize(theta)"
   ]
  },
  {
   "cell_type": "markdown",
   "id": "62eb32c3",
   "metadata": {},
   "source": [
    "## The two segmented arm \n",
    "\n",
    "You have to fill in the inverse kinematic calculations and you can test these using unit tests below."
   ]
  },
  {
   "cell_type": "code",
   "execution_count": 2,
   "id": "2cbd9b24",
   "metadata": {},
   "outputs": [],
   "source": [
    "import numpy as np\n",
    "import matplotlib.pyplot as plt\n",
    "\n",
    "class TwoSegmentManipulator:\n",
    "    def __init__(self, l1=1, l2=1):\n",
    "        # Constructor to set the length of the two segments\n",
    "        self.l1 = l1\n",
    "        self.l2 = l2\n",
    "    \n",
    "    def forward_kinematics(self, theta):\n",
    "        # Method to compute the forward kinematics of the manipulator\n",
    "        # based on the joint angles theta\n",
    "        x = self.l1*np.cos(theta[0]) + self.l2*np.cos(theta[0]+theta[1])\n",
    "        y = self.l1*np.sin(theta[0]) + self.l2*np.sin(theta[0]+theta[1])\n",
    "        return np.array([x, y])\n",
    "    \n",
    "    def inverse_kinematics(self, target):\n",
    "        # Method to compute the inverse kinematics of the manipulator\n",
    "        # based on the target position (x, y)\n",
    "        # TODO - you have to implement this\n",
    "        return np.array([0., 0.])\n",
    "    \n",
    "    def visualize(self, theta):\n",
    "        # Method to visualize the manipulator given the joint angles theta\n",
    "        p1 = np.array([0, 0])\n",
    "        p2 = np.array([self.l1*np.cos(theta[0]), self.l1*np.sin(theta[0])])\n",
    "        p3 = p2 + np.array([self.l2*np.cos(theta[0]+theta[1]), self.l2*np.sin(theta[0]+theta[1])])\n",
    "        \n",
    "        # Plot the segments of the manipulator\n",
    "        plt.plot([p1[0], p2[0]], [p1[1], p2[1]], 'bo-')\n",
    "        plt.plot([p2[0], p3[0]], [p2[1], p3[1]], 'ro-')\n",
    "        plt.xlim(-2, 2)\n",
    "        plt.ylim(-2, 2)\n",
    "        plt.show()"
   ]
  },
  {
   "cell_type": "markdown",
   "id": "1f55a05b",
   "metadata": {},
   "source": [
    "## Calling the class with examples"
   ]
  },
  {
   "cell_type": "code",
   "execution_count": 3,
   "id": "4de600b4",
   "metadata": {},
   "outputs": [
    {
     "name": "stdout",
     "output_type": "stream",
     "text": [
      "[0.70710678 1.70710678]\n",
      "[0. 0.]\n",
      "[0. 0.]\n"
     ]
    },
    {
     "data": {
      "image/png": "[encoded data removed]",
      "text/plain": [
       "<Figure size 640x480 with 1 Axes>"
      ]
     },
     "metadata": {},
     "output_type": "display_data"
    }
   ],
   "source": [
    "# Create a new manipulator object\n",
    "manipulator = TwoSegmentManipulator()\n",
    "\n",
    "# Test the forward kinematics function\n",
    "theta = np.array([np.pi/4, np.pi/4])\n",
    "print(manipulator.forward_kinematics(theta))  # prints [1.70710678 1.70710678]\n",
    "\n",
    "# Test the inverse kinematics function\n",
    "target = np.array([1, 1])\n",
    "theta_goal = manipulator.inverse_kinematics(target)\n",
    "print(theta_goal)  # prints [0.78539816 1.17809725]\n",
    "\n",
    "print(manipulator.inverse_kinematics(np.array([0, 2])))\n",
    "\n",
    "# Visualize the arm posture\n",
    "manipulator.visualize(theta)"
   ]
  },
  {
   "cell_type": "markdown",
   "id": "09e29de3",
   "metadata": {},
   "source": [
    "## Unit tests for testing the inverse kinematics"
   ]
  },
  {
   "cell_type": "code",
   "execution_count": 4,
   "id": "9bdf76af",
   "metadata": {},
   "outputs": [
    {
     "ename": "AssertionError",
     "evalue": "",
     "output_type": "error",
     "traceback": [
      "\u001b[0;31m---------------------------------------------------------------------------\u001b[0m",
      "\u001b[0;31mAssertionError\u001b[0m                            Traceback (most recent call last)",
      "Cell \u001b[0;32mIn[4], line 14\u001b[0m\n\u001b[1;32m     11\u001b[0m     \u001b[38;5;28;01massert\u001b[39;00m np\u001b[38;5;241m.\u001b[39mallclose(manipulator\u001b[38;5;241m.\u001b[39minverse_kinematics(np\u001b[38;5;241m.\u001b[39marray([\u001b[38;5;241m1.\u001b[39m, \u001b[38;5;241m1.\u001b[39m])), np\u001b[38;5;241m.\u001b[39marray([\u001b[38;5;241m0.\u001b[39m, \u001b[38;5;241m1.571\u001b[39m]), atol\u001b[38;5;241m=\u001b[39m\u001b[38;5;241m0.01\u001b[39m)\n\u001b[1;32m     12\u001b[0m     \u001b[38;5;28;01massert\u001b[39;00m np\u001b[38;5;241m.\u001b[39mallclose(manipulator\u001b[38;5;241m.\u001b[39minverse_kinematics(np\u001b[38;5;241m.\u001b[39marray([\u001b[38;5;241m-\u001b[39m\u001b[38;5;241m1.\u001b[39m, \u001b[38;5;241m-\u001b[39m\u001b[38;5;241m1.\u001b[39m])), np\u001b[38;5;241m.\u001b[39marray([\u001b[38;5;241m-\u001b[39m\u001b[38;5;241m3.142\u001b[39m, \u001b[38;5;241m1.571\u001b[39m]), atol\u001b[38;5;241m=\u001b[39m\u001b[38;5;241m0.01\u001b[39m)\n\u001b[0;32m---> 14\u001b[0m \u001b[43mtest_inverse_kinematics\u001b[49m\u001b[43m(\u001b[49m\u001b[43m)\u001b[49m\n",
      "Cell \u001b[0;32mIn[4], line 6\u001b[0m, in \u001b[0;36mtest_inverse_kinematics\u001b[0;34m()\u001b[0m\n\u001b[1;32m      4\u001b[0m manipulator \u001b[38;5;241m=\u001b[39m TwoSegmentManipulator()\n\u001b[1;32m      5\u001b[0m \u001b[38;5;28;01massert\u001b[39;00m np\u001b[38;5;241m.\u001b[39mallclose(manipulator\u001b[38;5;241m.\u001b[39minverse_kinematics(np\u001b[38;5;241m.\u001b[39marray([\u001b[38;5;241m2\u001b[39m, \u001b[38;5;241m0\u001b[39m])), np\u001b[38;5;241m.\u001b[39marray([\u001b[38;5;241m0.\u001b[39m, \u001b[38;5;241m0.\u001b[39m]), atol\u001b[38;5;241m=\u001b[39m\u001b[38;5;241m0.01\u001b[39m)\n\u001b[0;32m----> 6\u001b[0m \u001b[38;5;28;01massert\u001b[39;00m np\u001b[38;5;241m.\u001b[39mallclose(manipulator\u001b[38;5;241m.\u001b[39minverse_kinematics(np\u001b[38;5;241m.\u001b[39marray([\u001b[38;5;241m0\u001b[39m, \u001b[38;5;241m2\u001b[39m])), np\u001b[38;5;241m.\u001b[39marray([\u001b[38;5;241m1.57\u001b[39m, \u001b[38;5;241m0.\u001b[39m]), atol\u001b[38;5;241m=\u001b[39m\u001b[38;5;241m0.01\u001b[39m)\n\u001b[1;32m      7\u001b[0m \u001b[38;5;28;01massert\u001b[39;00m np\u001b[38;5;241m.\u001b[39mallclose(manipulator\u001b[38;5;241m.\u001b[39minverse_kinematics(np\u001b[38;5;241m.\u001b[39marray([\u001b[38;5;241m-\u001b[39m\u001b[38;5;241m2\u001b[39m, \u001b[38;5;241m0\u001b[39m])), np\u001b[38;5;241m.\u001b[39marray([\u001b[38;5;241m3.14\u001b[39m, \u001b[38;5;241m0.\u001b[39m]), atol\u001b[38;5;241m=\u001b[39m\u001b[38;5;241m0.01\u001b[39m)\n\u001b[1;32m      8\u001b[0m \u001b[38;5;28;01massert\u001b[39;00m np\u001b[38;5;241m.\u001b[39mallclose(manipulator\u001b[38;5;241m.\u001b[39minverse_kinematics(np\u001b[38;5;241m.\u001b[39marray([\u001b[38;5;241m1.4142\u001b[39m, \u001b[38;5;241m1.4142\u001b[39m])), np\u001b[38;5;241m.\u001b[39marray([\u001b[38;5;241m0.785\u001b[39m, \u001b[38;5;241m0.\u001b[39m]), atol\u001b[38;5;241m=\u001b[39m\u001b[38;5;241m0.01\u001b[39m)\n",
      "\u001b[0;31mAssertionError\u001b[0m: "
     ]
    }
   ],
   "source": [
    "from numpy.testing import assert_almost_equal\n",
    "\n",
    "def test_inverse_kinematics():\n",
    "    manipulator = TwoSegmentManipulator()\n",
    "    assert np.allclose(manipulator.inverse_kinematics(np.array([2, 0])), np.array([0., 0.]), atol=0.01)\n",
    "    assert np.allclose(manipulator.inverse_kinematics(np.array([0, 2])), np.array([1.57, 0.]), atol=0.01)\n",
    "    assert np.allclose(manipulator.inverse_kinematics(np.array([-2, 0])), np.array([3.14, 0.]), atol=0.01)\n",
    "    assert np.allclose(manipulator.inverse_kinematics(np.array([1.4142, 1.4142])), np.array([0.785, 0.]), atol=0.01)\n",
    "    assert np.allclose(manipulator.inverse_kinematics(np.array([-1.4142, -1.4142])), np.array([-2.356, 0.]), atol=0.01)\n",
    "    # Why might these be problematic? What would be a better alternative?\n",
    "    assert np.allclose(manipulator.inverse_kinematics(np.array([1., 1.])), np.array([0., 1.571]), atol=0.01)\n",
    "    assert np.allclose(manipulator.inverse_kinematics(np.array([-1., -1.])), np.array([-3.142, 1.571]), atol=0.01)\n",
    "\n",
    "test_inverse_kinematics()"
   ]
  },
  {
   "cell_type": "code",
   "execution_count": null,
   "id": "18764ae0",
   "metadata": {},
   "outputs": [],
   "source": []
  }
 ],
 "metadata": {
  "jupytext": {
   "text_representation": {
    "extension": ".md",
    "format_name": "myst",
    "format_version": 0.13,
    "jupytext_version": "1.15.2"
   }
  },
  "kernelspec": {
   "display_name": "py_38",
   "language": "python",
   "name": "python3"
  },
  "language_info": {
   "codemirror_mode": {
    "name": "ipython",
    "version": 3
   },
   "file_extension": ".py",
   "mimetype": "text/x-python",
   "name": "python",
   "nbconvert_exporter": "python",
   "pygments_lexer": "ipython3",
   "version": "3.10.12"
  },
  "source_map": [
   12,
   18,
   24,
   73,
   79,
   114,
   118,
   135,
   139,
   156
  ]
 },
 "nbformat": 4,
 "nbformat_minor": 5
}